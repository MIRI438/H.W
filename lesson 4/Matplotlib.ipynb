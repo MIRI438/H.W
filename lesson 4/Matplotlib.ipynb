# Matplotlib
matplotlib.pyplot קודם כל נתקין את   
pip install matplotlib
import matplotlib.pyplot as plt
גרף פשוט:
x = [1, 2, 3, 4, 5, 6]
y = [10, 20, 22, 11, 13, 1]
plt.plot(x, y)
( אין צורך jupyter notebook ):כדי לראות את הגרף שיצרנו נצטרך להריץ את הפקודה הבאה
plt.show()
 :לתמונה numpy נוסיף את 
import numpy as np
x = np.linspace(0, 10, 100) # 100 נקודות בין 0 ל-10
y = np.sin(x) # ערכי y הם הסינוס של ערכי x
plt.plot(x, y)
אפשר להוסיף לתרשים פרטים - מקרא מפה: 
plt.plot(x, y, label='sin(x)')
plt.title('Basic Line Graph')
plt.xlabel('x axis')
plt.ylabel('y axis')
plt.legend()
# גרף עמודות
categories = ['Category A', 'Category B', 'Category C']
values = [23, 45, 56]
plt.bar(categories, values)
plt.title('Bar Graph Example')
plt.xlabel('Categories')
plt.ylabel('Values')
# היסטוגרמה
ages = [22, 45, 30, 35, 50, 41, 28, 33, 55, 65, 29, 42, 48, 31]

plt.hist(ages, bins=[20, 30, 40, 50, 60, 70], edgecolor='black')

plt.title('Age Distribution')
plt.xlabel('Ages')
plt.ylabel('Number of People')
# גרף פיזור
x = np.random.rand(50) # 50 ערכי x אקראיים
y = np.random.rand(50) # 50 ערכי y אקראיים
colors = np.random.rand(50) # 50 צבעים אקראיים
sizes = 1000 * np.random.rand(50) # 50 גדלים אקראיים לנקודות
plt.scatter(x, y, c=colors, s=sizes, alpha=0.5, cmap='viridis')
plt.colorbar()  # הצגת סרגל הצבעים
plt.title('Scatter Plot Example')
plt.xlabel('x axis')
plt.ylabel('y axis')
# גרף עם שני ייצוגים שונים
x = np.linspace(0, 10, 100)
y1 = np.sin(x)
y2 = np.cos(x)
plt.plot(x, y1, '-b', label='sin(x)')
plt.plot(x, y2, ':r', label='cos(x)')
plt.scatter(x, y1, c='blue', s=10)  # נקודות לסינוס
plt.title('Line and Scatter on the Same Graph')
plt.xlabel('x axis')
plt.ylabel('y axis')
plt.legend()
# subplots
fig, axs = plt.subplots(2, 2)  # יוצר מטריצה של גרפים בגודל 2x2
axs[0, 0].plot(x, y1, 'tab:blue')
axs[0, 0].set_title('Sin(x)')
axs[0, 1].plot(x, y2, 'tab:red')
axs[0, 1].set_title('Cos(x)')
axs[1, 0].scatter(x, y1, c='yellow')
axs[1, 0].set_title('Sin(x) Scatter')
axs[1, 1].scatter(x, y2, c='green')
axs[1, 1].set_title('Cos(x) Scatter')

# התאמת הגרפים למראה נקי יותר
for ax in axs.flat:
    ax.label_outer()
# שינוי סגנון הגרף
:בדיקת הסגנונות הזמינים
plt.style.available
בחירת סגנון והחלתו:
plt.style.use('ggplot')
:ניצור גרף לדוגמא עם הסגנון החדש
plt.plot(x, y1)
plt.title('Plot with ggplot Style')
plt.xlabel('x axis')
plt.ylabel('y axis')
תרגיל 1: גרף קו

    מטרה: ליצור גרף קו שמציג את השינוי בטמפרטורה לאורך זמן.
    נתונים: טמפרטורות ממוצעות לכל חודש בשנה.

תרגיל 2: גרף עמודות

    מטרה: להציג את כמות המכירות לפי קטגוריה.
    נתונים: מכירות של 4 קטגוריות מוצרים בחנות.

תרגיל 3: גרף פיזור

    מטרה: לחקור את הקשר בין זמן לימוד לציונים במבחן.
    נתונים: שעות לימוד וציונים של תלמידים.

תרגיל 4: היסטוגרמה

    מטרה: לנתח את התפלגות גילאים בקבוצת נבדקים.
    נתונים: גילאים של אנשים בקבוצת מחקר.

תרגיל 5: גרפים מרובים בחלון אחד (Subplots)

    מטרה: להשוות בין צריכת אנרגיה לפי שנים ומקורות.
    נתונים: צריכת אנרגיה לפי שנים ומקורות אנרגיה שונים.
לתרגיל 5 אפשר להשתמש בזה:

# years = range(2010, 2021)
# consumption_oil = [100, 105, 110, 120, 125, 130, 135, 140, 145, 150, 155]
# consumption_gas = [80, 82, 85, 88, 90, 95, 100, 105, 110, 115, 120]
# consumption_renewable = [20, 25, 30, 35, 40, 45, 50, 60, 70, 80, 90]
x = [1, 2, 3, 4, 5, 6, 7, 8,9,10,11,12]
y = [25,26,28,15,32,36,35,30,26,25,21,24]
plt.plot(x, y)
categories = ["Shirts","Skirts", "Dresses", "Shoes"]
amount = [423,633,159,720]
plt.bar(categories, amount)
plt.xlabel('Categories')
plt.ylabel('amount')
hour = [2,3,4,1,2,3,0]
grade = [98,90,74,92,99,87,69]
plt.scatter(hour, grade, color='skyblue', marker='o', s=80, alpha=0.7)
plt.title('קשר בין שעות לימוד לציונים במבחן')
plt.xlabel('שעות לימוד')
plt.ylabel('ציונים במבחן')
ages = [22, 45, 30, 35, 50, 41, 28, 33, 55, 65, 29, 42, 48, 31]

plt.hist(ages, bins=[20, 30, 40, 50, 60, 70], edgecolor='black')

plt.title('Age Distribution')
plt.xlabel('Ages')
plt.ylabel('Number of People')
years = [2020, 2021, 2022]
fossil_fuels = [150, 155, 160]
renewable_energy = [50, 60, 70]
nuclear_energy = [30, 30, 32]
plt.subplot(1, 3, 1)  # 1 שורה, 3 עמודות, הגרף הראשון
plt.plot(years, fossil_fuels, marker='o', linestyle='-', color='red', label='דלקים פוסיליים')
plt.title('צריכת דלקים פוסיליים')
plt.xlabel('שנה')
plt.ylabel('צריכה (טריליון וואט-שעה)')
plt.grid(True)
plt.legend()
plt.subplot(1, 3, 2)  # 1 שורה, 3 עמודות, הגרף השני
plt.plot(years, renewable_energy, marker='o', linestyle='-', color='green', label='אנרגיה מתחדשת')
plt.title('צריכת אנרגיה מתחדשת')
plt.xlabel('שנה')
plt.ylabel('צריכה (טריליון וואט-שעה)')
plt.grid(True)
plt.legend()
plt.subplot(1, 3, 3)  # 1 שורה, 3 עמודות, הגרף השלישי
plt.plot(years, nuclear_energy, marker='o', linestyle='-', color='blue', label='אנרגיה גרעינית')
plt.title('צריכת אנרגיה גרעינית')
plt.xlabel('שנה')
plt.ylabel('צריכה (טריליון וואט-שעה)')
plt.grid(True)
plt.legend()
